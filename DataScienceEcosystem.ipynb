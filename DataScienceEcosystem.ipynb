{
 "cells": [
  {
   "cell_type": "markdown",
   "id": "f7d7c078-e3b7-467f-83ec-33ff50135dc0",
   "metadata": {},
   "source": [
    "# Data Science Tools and Ecosystem"
   ]
  },
  {
   "cell_type": "markdown",
   "id": "c4bd7cf9-2597-47a1-85d5-185ead34e9f5",
   "metadata": {},
   "source": [
    "In this notebook, Data Science Tools and Ecosystem are summarized."
   ]
  },
  {
   "cell_type": "markdown",
   "id": "f8743d0b-0a74-4461-b40f-8d2e4a046503",
   "metadata": {},
   "source": [
    "Some of the popular languages that Data Scientists use are:\n",
    "\n",
    "1. Python\n",
    "2. R\n",
    "3. SQL\n"
   ]
  },
  {
   "cell_type": "markdown",
   "id": "05a293c2-b508-4dd4-9472-3ac25a7cc351",
   "metadata": {},
   "source": [
    "Some of the commonly used libraries used by Data Scientists include:\n",
    "\n",
    "1. NumPy\n",
    "2. Pandas\n",
    "3. Matplotlib\n",
    "4. Scikit-learn"
   ]
  },
  {
   "cell_type": "markdown",
   "id": "f91d6156-0351-4b6e-8460-4d3d20c6bc5a",
   "metadata": {},
   "source": [
    "| Data Science Tools       |\n",
    "|--------------------------|\n",
    "| Jupyter Notebook          |\n",
    "| RStudio                   |\n",
    "| Apache Zeppelin           |\n"
   ]
  },
  {
   "cell_type": "markdown",
   "id": "b8924f9a-9e54-421e-a1b9-b0c92a29cbdd",
   "metadata": {},
   "source": [
    "### Below are a few examples of evaluating arithmetic expressions in Python\n",
    "\n",
    "- `3 + 5` resulta en 8\n",
    "- `10 - 2` resulta en 8\n",
    "- `4 * 7` resulta en 28\n",
    "- `9 / 3` resulta en 3.0\n"
   ]
  },
  {
   "cell_type": "code",
   "execution_count": 1,
   "id": "72aa82ca-1dc3-43e5-a849-9e25b5ef08cd",
   "metadata": {},
   "outputs": [
    {
     "data": {
      "text/plain": [
       "17"
      ]
     },
     "execution_count": 1,
     "metadata": {},
     "output_type": "execute_result"
    }
   ],
   "source": [
    "# This is a simple arithmetic expression to multiply then add integers\n",
    "(3 * 4) + 5\n"
   ]
  },
  {
   "cell_type": "code",
   "execution_count": 2,
   "id": "4b75fae8-a5fc-4230-b831-99a2cb298c75",
   "metadata": {},
   "outputs": [
    {
     "data": {
      "text/plain": [
       "3.3333333333333335"
      ]
     },
     "execution_count": 2,
     "metadata": {},
     "output_type": "execute_result"
    }
   ],
   "source": [
    "# This will convert 200 minutes to hours by dividing by 60\n",
    "200 / 60\n"
   ]
  },
  {
   "cell_type": "markdown",
   "id": "c0bfaf5a-b11d-4863-81e3-f16cb49c8c87",
   "metadata": {},
   "source": [
    "**Objectives:**\n",
    "\n",
    "- List popular languages for Data Science\n",
    "- Describe commonly used libraries in Data Science\n",
    "- Demonstrate arithmetic expressions in Python\n",
    "- Convert units of measurement within Python\n",
    "- Outline tools used in the Data Science ecosystem\n"
   ]
  },
  {
   "cell_type": "markdown",
   "id": "e45cdcb7-e29c-4003-a5be-0fa1141646cb",
   "metadata": {},
   "source": [
    "## Author\n",
    "\n",
    "Jorge Mario Cortes\n"
   ]
  }
 ],
 "metadata": {
  "kernelspec": {
   "display_name": "Python 3 (ipykernel)",
   "language": "python",
   "name": "python3"
  },
  "language_info": {
   "codemirror_mode": {
    "name": "ipython",
    "version": 3
   },
   "file_extension": ".py",
   "mimetype": "text/x-python",
   "name": "python",
   "nbconvert_exporter": "python",
   "pygments_lexer": "ipython3",
   "version": "3.12.2"
  }
 },
 "nbformat": 4,
 "nbformat_minor": 5
}
